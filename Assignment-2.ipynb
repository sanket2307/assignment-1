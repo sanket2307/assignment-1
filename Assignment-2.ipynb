{
 "cells": [
  {
   "cell_type": "markdown",
   "metadata": {},
   "source": [
    "# <b><i>Assignment 2<i></b>"
   ]
  },
  {
   "cell_type": "markdown",
   "metadata": {},
   "source": [
    "## <font color = 'orange' >Q1. Create the below pattern using nested for loop in Python.</font>\n",
    "### *\n",
    "### **\n",
    "### ***\n",
    "### ****\n",
    "### *****\n",
    "### ****\n",
    "### ***\n",
    "### **\n",
    "### *"
   ]
  },
  {
   "cell_type": "code",
   "execution_count": 1,
   "metadata": {},
   "outputs": [
    {
     "name": "stdout",
     "output_type": "stream",
     "text": [
      "*\r\n",
      "**\r\n",
      "***\r\n",
      "****\r\n",
      "*****\r\n",
      "****\r\n",
      "***\r\n",
      "**\r\n",
      "*\r\n",
      "\r\n"
     ]
    }
   ],
   "source": [
    "for i in range(0, 5):\n",
    "    for j in range(0, i + 1):\n",
    "        print('*', end='')\n",
    "    print('\\r')\n",
    "for i in range(5, 0 , -1):\n",
    "    for j in range(0, i - 1):\n",
    "        print('*', end='')\n",
    "    print('\\r')"
   ]
  },
  {
   "cell_type": "markdown",
   "metadata": {},
   "source": [
    "## <font color = \"orange\">2. Write a Python program to reverse a word after accepting the input from the user.\n",
    "### <font color = \"orange\">sample output:\n",
    "### <font color = \"orange\">Input word: ineuron\n",
    "### <font color = \"orange\">Output: norueni"
   ]
  },
  {
   "cell_type": "code",
   "execution_count": 2,
   "metadata": {},
   "outputs": [
    {
     "name": "stdout",
     "output_type": "stream",
     "text": [
      "Input Word: sanket\n",
      "Output:  teknas\n"
     ]
    }
   ],
   "source": [
    "ip = input('Input Word: ')\n",
    "print('Output: ', ip[::-1])"
   ]
  }
 ],
 "metadata": {
  "kernelspec": {
   "display_name": "Python 3",
   "language": "python",
   "name": "python3"
  },
  "language_info": {
   "codemirror_mode": {
    "name": "ipython",
    "version": 3
   },
   "file_extension": ".py",
   "mimetype": "text/x-python",
   "name": "python",
   "nbconvert_exporter": "python",
   "pygments_lexer": "ipython3",
   "version": "3.8.5"
  }
 },
 "nbformat": 4,
 "nbformat_minor": 4
}
